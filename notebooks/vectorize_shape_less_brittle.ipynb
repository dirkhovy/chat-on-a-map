{
 "cells": [
  {
   "cell_type": "code",
   "execution_count": 61,
   "metadata": {
    "collapsed": false
   },
   "outputs": [],
   "source": [
    "%matplotlib inline\n",
    "from pathlib import Path\n",
    "import json\n",
    "\n",
    "from skimage.measure import find_contours, approximate_polygon, subdivide_polygon\n",
    "from skimage.segmentation  import find_boundaries, clear_border\n",
    "from skimage import color, measure, draw\n",
    "from scipy import ndimage\n",
    "from skimage.morphology import binary_erosion, binary_dilation, convex_hull_image, convex_hull_object\n",
    "import matplotlib.pyplot as plt\n",
    "import numpy as np\n",
    "from skimage.measure import regionprops\n",
    "from shapely.geometry import shape, Point, Polygon, mapping\n"
   ]
  },
  {
   "cell_type": "code",
   "execution_count": 78,
   "metadata": {
    "collapsed": false
   },
   "outputs": [],
   "source": [
    "coords = {'vollsmose':{'left_edge_lng': 10.386036, \n",
    "                       'bottom_edge_lat': 55.400343, \n",
    "                       'right_edge_lng': 10.457705, \n",
    "                       'top_edge_lat': 55.419517,\n",
    "                       'map_shape': (859, 1676)\n",
    "                      },\n",
    "          'bylderup':{'lllon': 8.86837, 'lllat': 54.889246, 'urlon': 9.445496, 'urlat': 55.065394,\n",
    "                      'map_shape': (800, 1679)\n",
    "                     }\n",
    "}\n",
    "town = 'vollsmose'\n",
    "\n",
    "def convert_to_lat_lng(xy, left_edge_lng, right_edge_lng, top_edge_lat, bottom_edge_lat, map_shape):\n",
    "    \"\"\"Return a transformed coordinate array with the same dimensions as `xy` in (lat, lng) order\"\"\"\n",
    "    geo = np.zeros_like(xy)\n",
    "    # Pixel coordinates for latitude are reversed\n",
    "    dist_lat = (top_edge_lat - bottom_edge_lat)\n",
    "    relative_dist_from_top = xy[:, 0] / map_shape[0]\n",
    "    geo[:, 0] = bottom_edge_lat + (1 - relative_dist_from_top) * dist_lat\n",
    "\n",
    "    dist_lng = (left_edge_lng - right_edge_lng)\n",
    "    geo[:, 1] = left_edge_lng - (xy[:, 1] / map_shape[1]) * dist_lng\n",
    "    return geo\n"
   ]
  },
  {
   "cell_type": "code",
   "execution_count": 79,
   "metadata": {
    "collapsed": false
   },
   "outputs": [
    {
     "name": "stdout",
     "output_type": "stream",
     "text": [
      "{\"type\": \"Polygon\", \"coordinates\": [[[10.442096894391408, 55.40734072875436], [10.439317368735084, 55.407452335273575], [10.437777939140812, 55.407854118742726], [10.43690131951074, 55.40869116763679], [10.436217128579953, 55.41072240628638], [10.435019794451074, 55.411883114086145], [10.434763222852029, 55.41250811059371], [10.434977032517901, 55.41351256926659], [10.433736936455848, 55.414137565774155], [10.43335207905728, 55.41485184749709], [10.43335207905728, 55.415231309662396], [10.433886603221957, 55.41557728987194], [10.436195747613366, 55.41617996507567], [10.438291082338903, 55.41626925029104], [10.439402892601432, 55.41584514551804], [10.440450559964201, 55.41438310011641], [10.44164789409308, 55.41369113969732], [10.442075513424822, 55.41190543538999], [10.442930752088307, 55.411191153667055], [10.443315609486874, 55.40938312805588], [10.442845228221957, 55.40759742374854], [10.442096894391408, 55.40734072875436]]]}\n",
      "{\"type\": \"Polygon\", \"coordinates\": [[[10.43076498210024, 55.40720680093131], [10.427857170644392, 55.40734072875436], [10.425334216587112, 55.40816661699651], [10.423987215692124, 55.40924920023283], [10.423901691825776, 55.41045455064028], [10.424756930489261, 55.41195007799767], [10.427044693914082, 55.412921054714786], [10.429824219570406, 55.41312194644936], [10.432860316825776, 55.41247462863795], [10.434121793854416, 55.41168222235157], [10.43446388931981, 55.4106777636787], [10.434250079653939, 55.40898134458673], [10.432304411694512, 55.40747465657741], [10.43076498210024, 55.40720680093131]]]}\n",
      "{\"type\": \"Polygon\", \"coordinates\": [[[10.389157621121718, 55.40176040279395], [10.38744714379475, 55.40176040279395], [10.387126429295943, 55.40190549126892], [10.386442238365156, 55.40261977299185], [10.386057380966587, 55.40402601513387], [10.38633533353222, 55.403635392316644], [10.386442238365156, 55.40505279511059], [10.386762952863963, 55.40524252619325], [10.38825962052506, 55.40555502444703], [10.389585240453462, 55.40551038183935], [10.389456954653939, 55.40566663096624], [10.391060527147973, 55.404963509895225], [10.39165919421241, 55.40447244121071], [10.392172337410502, 55.40375815948778], [10.392215099343677, 55.40277602211874], [10.390825336515514, 55.401983615832364], [10.389157621121718, 55.40176040279395]]]}\n",
      "{\"type\": \"Polygon\", \"coordinates\": [[[10.433630031622913, 55.403367536670544], [10.432732031026253, 55.403367536670544], [10.432283030727925, 55.403601910360884], [10.431898173329357, 55.40431619208382], [10.432111982995227, 55.40527600814901], [10.43328793615752, 55.40557734575087], [10.435254985083533, 55.40555502444703], [10.43587503311456, 55.40404833643772], [10.435041175417663, 55.40343450058207], [10.433630031622913, 55.403367536670544]]]}\n"
     ]
    },
    {
     "data": {
      "text/plain": [
       "<matplotlib.image.AxesImage at 0x11469cf28>"
      ]
     },
     "execution_count": 79,
     "metadata": {},
     "output_type": "execute_result"
    },
    {
     "data": {
      "image/png": "[encoded data removed]",
      "text/plain": [
       "<matplotlib.figure.Figure at 0x10d1f9f98>"
      ]
     },
     "metadata": {},
     "output_type": "display_data"
    }
   ],
   "source": [
    "image_file = Path(\"/Users/anders/Dropbox/Maps/DigitaliseredeKort/V_AFA_HA.png\")\n",
    "image_data = plt.imread(str(image_file))\n",
    "\n",
    "gimg = color.colorconv.rgb2grey(image_data)\n",
    "bwimg = gimg > 0\n",
    "\n",
    "# make sure it's closed\n",
    "bwimg = binary_dilation(bwimg, None)\n",
    "bwimg = ndimage.binary_fill_holes(bwimg)\n",
    "# shrink it\n",
    "clear_border(bwimg)\n",
    "\n",
    "labeled_img = measure.label(bwimg, background=0)\n",
    "\n",
    "# clear_border\n",
    "\n",
    "contours = []\n",
    "poly_img = np.zeros_like(bwimg)\n",
    "\n",
    "for region in regionprops(labeled_img):\n",
    "    # skip small images\n",
    "    if region.area < 100:\n",
    "        continue\n",
    "    for contour in measure.find_contours(bwimg == region.label, 0.5):\n",
    "        # Is shape closed?\n",
    "        if tuple(contour[0]) == tuple(contour[-1]):\n",
    "            poly = approximate_polygon(contour, tolerance=5)\n",
    "            rr, cc = draw.polygon(poly[:,0], poly[:,1])\n",
    "            poly_img[rr, cc] = region.label\n",
    "            \n",
    "            geo = convert_to_lat_lng(poly, **coords[town])\n",
    "            #             y = np.abs(y - map_height)\n",
    "            \n",
    "            lat = geo[:, 0]\n",
    "            lng = geo[:, 1]\n",
    "            poly_shape = Polygon(zip(lng, lat))\n",
    "            print(json.dumps(mapping(poly_shape)))\n",
    "\n",
    "\n",
    "plt.imshow(measure.label(poly_img, background=0))\n",
    "\n",
    "#for new_s in measure.find_contours(bwimg, 0.5):\n",
    "#    print(new_s.shape)\n",
    "\n",
    "#contours = [approximate_polygon(new_s, 0.9) for new_s in measure.find_contours(bwimg, 0.5)]"
   ]
  },
  {
   "cell_type": "code",
   "execution_count": 47,
   "metadata": {
    "collapsed": false
   },
   "outputs": [],
   "source": [
    "clear_border?"
   ]
  },
  {
   "cell_type": "code",
   "execution_count": null,
   "metadata": {
    "collapsed": true
   },
   "outputs": [],
   "source": []
  }
 ],
 "metadata": {
  "kernelspec": {
   "display_name": "Python 3",
   "language": "python",
   "name": "python3"
  },
  "language_info": {
   "codemirror_mode": {
    "name": "ipython",
    "version": 3
   },
   "file_extension": ".py",
   "mimetype": "text/x-python",
   "name": "python",
   "nbconvert_exporter": "python",
   "pygments_lexer": "ipython3",
   "version": "3.4.3"
  }
 },
 "nbformat": 4,
 "nbformat_minor": 0
}
