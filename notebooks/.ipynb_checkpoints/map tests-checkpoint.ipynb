{
 "metadata": {
  "name": "",
  "signature": "sha256:d4a1c016518d72a4c6489eb43814ba860501c5a6106a6139e096575b154ea1fc"
 },
 "nbformat": 3,
 "nbformat_minor": 0,
 "worksheets": [
  {
   "cells": [
    {
     "cell_type": "markdown",
     "metadata": {},
     "source": [
      "Vollsmose\n",
      "UR: 55.419227, 10.457837\n",
      "LL: 55.399859, 10.386039\n",
      "\n",
      "https://stevendkay.wordpress.com/tag/basemap/"
     ]
    },
    {
     "cell_type": "code",
     "collapsed": false,
     "input": [
      "import matplotlib.pyplot as plt\n",
      "import numpy as np\n",
      "import matplotlib.cm as cm\n",
      "from mpl_toolkits.basemap import Basemap"
     ],
     "language": "python",
     "metadata": {},
     "outputs": [],
     "prompt_number": 2
    },
    {
     "cell_type": "markdown",
     "metadata": {},
     "source": [
      "Generate some data points and plot them within the coordinates"
     ]
    },
    {
     "cell_type": "code",
     "collapsed": false,
     "input": [
      "x = np.random.uniform(10.386039, 10.457837, 100) #longitudes\n",
      "y = np.random.uniform(55.399859, 55.419227, 100) #latitudes\n",
      "  \n",
      "m = Basemap(llcrnrlon=10.386039,llcrnrlat=55.399859,urcrnrlon=10.457837,urcrnrlat=55.419227,lat_ts=2,\n",
      "            resolution='l',projection='merc',lon_0=10.415,lat_0=55.399859)\n",
      "\n",
      "x1,y1 = m(x,y)\n",
      "\n",
      "m.drawmapboundary(fill_color='white') # fill to edge\n",
      "m.scatter(x1, y1, s=5, c='r', marker=\"o\", cmap=cm.jet, alpha=1.0)\n",
      "\n",
      "plt.show();"
     ],
     "language": "python",
     "metadata": {},
     "outputs": []
    },
    {
     "cell_type": "code",
     "collapsed": false,
     "input": [],
     "language": "python",
     "metadata": {},
     "outputs": []
    }
   ],
   "metadata": {}
  }
 ]
}